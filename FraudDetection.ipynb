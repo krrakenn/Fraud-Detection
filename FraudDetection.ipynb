{
  "nbformat": 4,
  "nbformat_minor": 0,
  "metadata": {
    "colab": {
      "provenance": [],
      "authorship_tag": "ABX9TyNxxAY8ZTwrU+zZ0dUOdSux",
      "include_colab_link": true
    },
    "kernelspec": {
      "name": "python3",
      "display_name": "Python 3"
    },
    "language_info": {
      "name": "python"
    }
  },
  "cells": [
    {
      "cell_type": "markdown",
      "metadata": {
        "id": "view-in-github",
        "colab_type": "text"
      },
      "source": [
        "<a href=\"https://colab.research.google.com/github/krrakenn/Fraud-Detection/blob/main/FraudDetection.ipynb\" target=\"_parent\"><img src=\"https://colab.research.google.com/assets/colab-badge.svg\" alt=\"Open In Colab\"/></a>"
      ]
    },
    {
      "cell_type": "markdown",
      "source": [
        "# SOM doesn't have implementation in ScikitLearn"
      ],
      "metadata": {
        "id": "hGzqIrYXvq_A"
      }
    },
    {
      "cell_type": "markdown",
      "source": [
        "## Install MiniSom from pip"
      ],
      "metadata": {
        "id": "TVqu1-jAw2ZQ"
      }
    },
    {
      "cell_type": "code",
      "execution_count": null,
      "metadata": {
        "colab": {
          "base_uri": "https://localhost:8080/"
        },
        "id": "eLmdsE46tTyU",
        "outputId": "d8380293-242b-4b64-f976-b90014abbd0e"
      },
      "outputs": [
        {
          "output_type": "stream",
          "name": "stdout",
          "text": [
            "Collecting MiniSom\n",
            "  Downloading MiniSom-2.3.1.tar.gz (10 kB)\n",
            "  Preparing metadata (setup.py) ... \u001b[?25l\u001b[?25hdone\n",
            "Building wheels for collected packages: MiniSom\n",
            "  Building wheel for MiniSom (setup.py) ... \u001b[?25l\u001b[?25hdone\n",
            "  Created wheel for MiniSom: filename=MiniSom-2.3.1-py3-none-any.whl size=10588 sha256=41d0311aa7b50d5c299d493bbe2e50b0dddc6e5c2495230abe37f073a04153b6\n",
            "  Stored in directory: /root/.cache/pip/wheels/c7/92/d2/33bbda5f86fd8830510b16aa98c8dd420129b5cb24248fd6db\n",
            "Successfully built MiniSom\n",
            "Installing collected packages: MiniSom\n",
            "Successfully installed MiniSom-2.3.1\n"
          ]
        }
      ],
      "source": [
        "!pip install MiniSom"
      ]
    },
    {
      "cell_type": "markdown",
      "source": [
        "## Import the libraries\n"
      ],
      "metadata": {
        "id": "94Y1tAWuvfgF"
      }
    },
    {
      "cell_type": "code",
      "source": [
        "import numpy as np\n",
        "import pandas as pd\n",
        "import matplotlib.pyplot as plt\n",
        "from minisom import MiniSom"
      ],
      "metadata": {
        "id": "XEGOvUwBtj04"
      },
      "execution_count": null,
      "outputs": []
    },
    {
      "cell_type": "markdown",
      "source": [
        "## Import Dataset"
      ],
      "metadata": {
        "id": "7nIsaJn4v3Wm"
      }
    },
    {
      "cell_type": "code",
      "source": [
        "dataset = pd.read_csv('Credit_Card_Applications.csv')\n",
        "X = dataset.iloc[:, :-1].values\n",
        "y = dataset.iloc[:, -1].values"
      ],
      "metadata": {
        "id": "en26svUYuzgi"
      },
      "execution_count": null,
      "outputs": []
    },
    {
      "cell_type": "markdown",
      "source": [
        "## Feature Scaling"
      ],
      "metadata": {
        "id": "6OfPmC51v-YO"
      }
    },
    {
      "cell_type": "code",
      "source": [
        "from sklearn.preprocessing import MinMaxScaler\n",
        "sc = MinMaxScaler(feature_range = (0,1))\n",
        "X = sc.fit_transform(X)"
      ],
      "metadata": {
        "id": "f8X5PKcXuzT5"
      },
      "execution_count": null,
      "outputs": []
    },
    {
      "cell_type": "markdown",
      "source": [
        "## Training SOM"
      ],
      "metadata": {
        "id": "fPjamaDYwsSq"
      }
    },
    {
      "cell_type": "code",
      "source": [
        "from minisom import MiniSom\n",
        "som = MiniSom(x=10, y=10, input_len= 15, sigma= 1.0, learning_rate = 0.5)\n",
        "# x any y are the grid-dimensions which we want to make (x*y)\n",
        "# input_len is the number of variables, in our case 14+1 (+1 is the customer ID coz we want it in future)\n",
        "# sigma is the radius of the circle of neighbour in grid which will be made\n",
        "# learning_rate specifies by how much the weights will be updated during each iteration higher the rate, higher the convergance\n",
        "som.random_weights_init(X)\n",
        "som.train_random(data = X, num_iteration = 100)\n",
        "# num_iteration can be compared to Epochs"
      ],
      "metadata": {
        "id": "nsV14WjUuytk"
      },
      "execution_count": null,
      "outputs": []
    },
    {
      "cell_type": "markdown",
      "source": [
        "## Visualizing test results"
      ],
      "metadata": {
        "id": "KYbEsRwlzGYx"
      }
    },
    {
      "cell_type": "code",
      "source": [
        "from pylab import bone, pcolor, colorbar, plot, show\n",
        "bone()\n",
        "x=som.distance_map().T\n",
        "print(x)\n",
        "fr=[]\n",
        "fc=[]\n",
        "for row in range(x.shape[0]):\n",
        "  for column in range(x.shape[1]):\n",
        "    if(x[row][column]>=0.9):\n",
        "      fr.append(row)\n",
        "      fc.append(column)\n",
        "if(len(fr)>3):\n",
        "  fr=[]\n",
        "  fc=[]\n",
        "  for row in range(x.shape[0]):\n",
        "    for column in range(x.shape[1]):\n",
        "      if(x[row][column]>=0.93):\n",
        "        fr.append(row)\n",
        "        fc.append(column)\n",
        "elif(len(fr)<3):\n",
        "  fr=[]\n",
        "  fc=[]\n",
        "  for row in range(x.shape[0]):\n",
        "    for column in range(x.shape[1]):\n",
        "      if(x[row][column]>=0.87):\n",
        "        fr.append(row)\n",
        "        fc.append(column)\n",
        "print(fr)\n",
        "print(fc)\n",
        "pcolor(x,cmap='plasma')\n",
        "colorbar()\n",
        "markers = ['v', '^']\n",
        "colors = ['r', 'g']\n",
        "for i, x in enumerate(X):\n",
        "    w = som.winner(x)\n",
        "    plot(w[0] + 0.5,\n",
        "         w[1] + 0.5,\n",
        "         markers[y[i]],\n",
        "         markeredgecolor = colors[y[i]],\n",
        "         markerfacecolor = 'None',\n",
        "         markersize = 10,\n",
        "         markeredgewidth = 2)\n",
        "show()"
      ],
      "metadata": {
        "colab": {
          "base_uri": "https://localhost:8080/",
          "height": 817
        },
        "id": "NIzFYEaSuyqt",
        "outputId": "f7b36e99-06b4-49cb-eb13-2c973815c8f3"
      },
      "execution_count": null,
      "outputs": [
        {
          "output_type": "stream",
          "name": "stdout",
          "text": [
            "[[0.1308234  0.27612431 0.35978683 0.43667371 0.42116127 0.41431507\n",
            "  0.4108248  0.47521593 0.55603526 0.36488663]\n",
            " [0.3626903  0.54664822 0.64316911 0.69674421 0.63707099 0.60205194\n",
            "  0.6324701  0.65949898 0.8325613  0.5105414 ]\n",
            " [0.42694393 0.63575816 0.63724334 0.72223971 0.74627894 0.51972944\n",
            "  0.53575358 0.56068291 0.60347984 0.49510124]\n",
            " [0.47114342 0.65741596 0.52529172 0.59979465 0.68813203 0.7013229\n",
            "  0.46459721 0.38998546 0.52779527 0.38829779]\n",
            " [0.47079405 0.72383192 0.65813759 0.72104415 0.90232108 0.54174803\n",
            "  0.46317734 0.40002233 0.43350755 0.44263458]\n",
            " [0.45385178 0.73969252 0.67910586 0.69524314 0.77907482 0.7689863\n",
            "  0.57830266 0.48448208 0.51166634 0.37944073]\n",
            " [0.50665402 0.74537042 0.64245283 0.63273964 0.75268686 0.75025114\n",
            "  0.69800606 0.69578067 0.5577677  0.34199198]\n",
            " [0.4495492  0.71899646 0.66357176 0.72358274 0.97677833 0.73326487\n",
            "  0.69179042 0.67084867 0.57239651 0.37888066]\n",
            " [0.42669083 0.6596023  0.78001291 1.         0.76644085 0.76851057\n",
            "  0.64804309 0.77519808 0.50158412 0.33205785]\n",
            " [0.32296035 0.45498204 0.42617159 0.53041402 0.57266319 0.47454539\n",
            "  0.44721873 0.30076554 0.34330651 0.25389274]]\n",
            "[4, 7, 8]\n",
            "[4, 4, 3]\n"
          ]
        },
        {
          "output_type": "display_data",
          "data": {
            "text/plain": [
              "<Figure size 640x480 with 2 Axes>"
            ],
            "image/png": "[encoded data removed]"
          },
          "metadata": {}
        }
      ]
    },
    {
      "cell_type": "markdown",
      "source": [
        "'''\n",
        "'plasma'\n",
        "'inferno'\n",
        "'magma'\n",
        "'cividis'\n",
        "'cool'\n",
        "'hot'\n",
        "'spring'\n",
        "'summer'\n",
        "'autumn'\n",
        "'winter'\n",
        "'coolwarm'\n",
        "'viridis'\n",
        "'RdBu'\n",
        "'jet'\n",
        "'rainbow'\n",
        "'hsv'\n",
        "'twilight'\n",
        "'twilight_shifted'\n",
        "'nipy_spectral'\n",
        "'gist_ncar'\n",
        "'gist_rainbow'\n",
        "'gist_stern'\n",
        "'brg'\n",
        "'gist_earth'\n",
        "'terrain'\n",
        "'ocean'\n",
        "'gnuplot'\n",
        "'gnuplot2'\n",
        "'CMRmap'\n",
        "'cubehelix'\n",
        "'gnuplot2_r'\n",
        "'ocean_r'\n",
        "'rainbow_r'\n",
        "'nipy_spectral_r'\n",
        "'terrain_r'\n",
        "'gist_earth_r'\n",
        "'gist_stern_r'\n",
        "'gist_rainbow_r'\n",
        "'brg_r'\n",
        "'hsv_r'\n",
        "'twilight_r'\n",
        "'twilight_shifted_r'\n",
        "'''\n",
        "# are some options\n",
        "'''\n",
        "som.distance_map() returns a matrix, and the .T is applied to transpose it.\n",
        "This is necessary because when you use the pcolor function,\n",
        "it expects the matrix to be oriented in a specific way,\n",
        "with rows representing the X-axis and columns representing the Y-axis.\n",
        "By transposing the matrix, you ensure that it aligns correctly with the expected orientation for the plot.\n",
        "'''"
      ],
      "metadata": {
        "id": "oRV6XCbNQlSD"
      }
    },
    {
      "cell_type": "markdown",
      "source": [
        "## Finding out frauds"
      ],
      "metadata": {
        "id": "eHrxrq38zRsE"
      }
    },
    {
      "cell_type": "code",
      "source": [
        "mappings = som.win_map(X) #win map is used to get all the customers related to particular winning node\n",
        "#frauds = np.concatenate((mappings[(5,2)], mappings[(6,2)],mappings[(4,3)],mappings[(5,3)]), axis = 0)\n",
        "#print(frauds)\n",
        "frauds=np.array([[1,2,3,4,5,6,7,8,9,1,2,3,4,5,6]])\n",
        "for i in range(len(fc)):\n",
        "  frauds=np.concatenate((frauds,mappings[(fc[i],fr[i])]),axis=0)\n",
        "frauds=np.delete(frauds,0,axis=0)\n",
        "#print(frauds)\n",
        "frauds = sc.inverse_transform(frauds)\n",
        "#print(frauds)"
      ],
      "metadata": {
        "id": "dfeMA6tIuynN"
      },
      "execution_count": null,
      "outputs": []
    },
    {
      "cell_type": "markdown",
      "source": [
        "## Printing fraud customers"
      ],
      "metadata": {
        "id": "mABAKrdszboW"
      }
    },
    {
      "cell_type": "code",
      "source": [
        "print('Fraud Customer IDs')\n",
        "for i in frauds[:, 0]:\n",
        "  print(int(i))"
      ],
      "metadata": {
        "colab": {
          "base_uri": "https://localhost:8080/"
        },
        "id": "5zB9uCu7uyXg",
        "outputId": "5546bd5e-7468-4d3c-b978-6a307feb1ad9"
      },
      "execution_count": null,
      "outputs": [
        {
          "output_type": "stream",
          "name": "stdout",
          "text": [
            "Fraud Customer IDs\n",
            "15594305\n",
            "15664793\n",
            "15670029\n",
            "15662189\n",
            "15696361\n",
            "15568469\n",
            "15586479\n",
            "15646535\n",
            "15790113\n",
            "15767729\n",
            "15711446\n",
            "15787693\n",
            "15688210\n",
            "15793366\n",
            "15735106\n",
            "15688059\n",
            "15683276\n",
            "15642001\n",
            "15768777\n",
            "15791326\n",
            "15779586\n",
            "15730150\n"
          ]
        }
      ]
    },
    {
      "cell_type": "code",
      "source": [
        "customers = dataset.iloc[:, 1:].values\n",
        "\n",
        "\"\"\"## Create Dependent Variable\"\"\"\n",
        "\n",
        "is_fraud = np.zeros(len(dataset))\n",
        "for i in range(len(dataset)):\n",
        "  if dataset.iloc[i,0] in frauds:\n",
        "    is_fraud[i] = 1\n",
        "\n",
        "\"\"\"#Part 3 - ANN\n",
        "\n",
        "### Feature Scaling\n",
        "\"\"\"\n",
        "\n",
        "from sklearn.preprocessing import StandardScaler\n",
        "sc = StandardScaler()\n",
        "customers = sc.fit_transform(customers)\n",
        "\n",
        "\"\"\"## Building the ANN\n",
        "\n",
        "##Import Tensorflow\n",
        "\"\"\"\n",
        "\n",
        "import tensorflow as tf\n",
        "tf.__version__\n",
        "\n",
        "\"\"\"## Initializing the ANN\"\"\"\n",
        "\n",
        "ann = tf.keras.models.Sequential()\n",
        "\n",
        "\"\"\"##Adding the input layer and the first hidden layer\"\"\"\n",
        "\n",
        "ann.add(tf.keras.layers.Dense(units=2, activation='relu'))\n",
        "\n",
        "\"\"\"## Adding the output layer\"\"\"\n",
        "\n",
        "ann.add(tf.keras.layers.Dense(units=1, activation='sigmoid'))\n",
        "\n",
        "\"\"\"## Training the ANN\n",
        "\n",
        "## Compiling the ANN\n",
        "\"\"\"\n",
        "\n",
        "ann.compile(optimizer = 'adam', loss = 'binary_crossentropy', metrics = ['accuracy'])\n",
        "\n",
        "\"\"\"## Training the ANN on the Training set\"\"\"\n",
        "\n",
        "ann.fit(customers, is_fraud, batch_size = 1, epochs = 10)\n",
        "\n",
        "\"\"\"## Predicting test set results\"\"\"\n",
        "\n",
        "y_pred = ann.predict(customers)\n",
        "y_pred = np.concatenate((dataset.iloc[:, 0:1].values, y_pred), axis = 1)\n",
        "y_pred = y_pred[y_pred[:, 1].argsort()]\n",
        "\n",
        "print(y_pred)"
      ],
      "metadata": {
        "colab": {
          "base_uri": "https://localhost:8080/"
        },
        "id": "I5A2m12ZxGYH",
        "outputId": "dc85ff80-b2d8-4e51-9247-539c92876471"
      },
      "execution_count": null,
      "outputs": [
        {
          "output_type": "stream",
          "name": "stdout",
          "text": [
            "Epoch 1/10\n",
            "690/690 [==============================] - 2s 2ms/step - loss: 0.9511 - accuracy: 0.5913\n",
            "Epoch 2/10\n",
            "690/690 [==============================] - 1s 2ms/step - loss: 0.4572 - accuracy: 0.9261\n",
            "Epoch 3/10\n",
            "690/690 [==============================] - 1s 2ms/step - loss: 0.3154 - accuracy: 0.9667\n",
            "Epoch 4/10\n",
            "690/690 [==============================] - 1s 2ms/step - loss: 0.2475 - accuracy: 0.9681\n",
            "Epoch 5/10\n",
            "690/690 [==============================] - 2s 2ms/step - loss: 0.2082 - accuracy: 0.9681\n",
            "Epoch 6/10\n",
            "690/690 [==============================] - 1s 2ms/step - loss: 0.1842 - accuracy: 0.9681\n",
            "Epoch 7/10\n",
            "690/690 [==============================] - 1s 2ms/step - loss: 0.1692 - accuracy: 0.9681\n",
            "Epoch 8/10\n",
            "690/690 [==============================] - 1s 2ms/step - loss: 0.1598 - accuracy: 0.9681\n",
            "Epoch 9/10\n",
            "690/690 [==============================] - 1s 2ms/step - loss: 0.1537 - accuracy: 0.9681\n",
            "Epoch 10/10\n",
            "690/690 [==============================] - 1s 2ms/step - loss: 0.1496 - accuracy: 0.9681\n",
            "22/22 [==============================] - 0s 1ms/step\n",
            "[[1.57761560e+07 5.73297590e-02]\n",
            " [1.57610470e+07 5.73297590e-02]\n",
            " [1.56712930e+07 5.73297590e-02]\n",
            " ...\n",
            " [1.57355720e+07 6.84770271e-02]\n",
            " [1.55931780e+07 6.86241463e-02]\n",
            " [1.56420010e+07 7.31753111e-02]]\n"
          ]
        }
      ]
    }
  ]
}